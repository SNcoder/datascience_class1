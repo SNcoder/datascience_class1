{
 "cells": [
  {
   "cell_type": "markdown",
   "id": "ec060867-b8a2-4ce6-ab50-0c664313458b",
   "metadata": {},
   "source": [
    "q1\n",
    "def keywoed is used to create a function"
   ]
  },
  {
   "cell_type": "raw",
   "id": "80e31ce2-64ec-4532-b261-802cf1377589",
   "metadata": {},
   "source": [
    "def odd_no():\n",
    "    l=[]\n",
    "    for i in range(1,25):\n",
    "        if i%2!=0:\n",
    "            l.append(i)\n",
    "    return l\n",
    "        \n",
    "odd_no()        "
   ]
  },
  {
   "cell_type": "markdown",
   "id": "fb36818d-17d2-4cb6-bdaf-5adfb2da800a",
   "metadata": {},
   "source": [
    "q2"
   ]
  },
  {
   "cell_type": "markdown",
   "id": "759eb1a0-dc75-432c-8ff3-37f711702a41",
   "metadata": {},
   "source": [
    "* args in python is used to pass variable no of argument and list.it is used to pass a non keyword argument and list\n",
    "**kwargs is used to pass a keyword variable length argument list. it is defined by double star\n"
   ]
  },
  {
   "cell_type": "code",
   "execution_count": 4,
   "id": "379af7a7-1931-45a6-bb62-26370b57e0f7",
   "metadata": {},
   "outputs": [
    {
     "data": {
      "text/plain": [
       "[1, 2, 3, 4]"
      ]
     },
     "execution_count": 4,
     "metadata": {},
     "output_type": "execute_result"
    }
   ],
   "source": [
    "# args example\n",
    "def test1(*args):\n",
    "    l=[]\n",
    "    for i in args:\n",
    "        if type(i)==int:\n",
    "            l.append(i)\n",
    "    return l\n",
    "test1(1,2,3,4,'ram','shayam')\n"
   ]
  },
  {
   "cell_type": "code",
   "execution_count": 7,
   "id": "78ce17f7-6588-4631-bc14-3abe29b76537",
   "metadata": {},
   "outputs": [
    {
     "data": {
      "text/plain": [
       "[1, 90]"
      ]
     },
     "execution_count": 7,
     "metadata": {},
     "output_type": "execute_result"
    }
   ],
   "source": [
    "# **kwargs\n",
    "def test2(**kargs):\n",
    "    l=[]\n",
    "    for i in kargs.values():\n",
    "        if type(i)==int:\n",
    "            l.append(i)\n",
    "    return l\n",
    "test2(a='se',b='ty',c=1,d='rt',e=90)\n",
    "\n",
    "    \n",
    "\n",
    "    "
   ]
  },
  {
   "cell_type": "markdown",
   "id": "db9ff611-dea0-42fb-86c4-8234496b082f",
   "metadata": {},
   "source": [
    "q3.Q3. What is an iterator in python? Name the method used to initialise the iterator object and the method\n",
    "used for iteration. Use these methods to print the first five elements of the given list [2, 4, 6, 8, 10, 12, 14, 16,\n",
    "18, 20]."
   ]
  },
  {
   "cell_type": "markdown",
   "id": "06ef90f6-55e7-4f4a-85c3-7a55d9e411aa",
   "metadata": {},
   "source": [
    "iterator in python is an object that is used to itrate the iterable object such as list ,tuple set ,dict and list.\n",
    "iterator object is intialize using the iter() method. and it used the next method for iterations."
   ]
  },
  {
   "cell_type": "markdown",
   "id": "70a6ff9a-40f1-4ba9-89a4-6929563aec12",
   "metadata": {},
   "source": [
    "iterator in python is object is used to iterate the itreatable object such as list , set , tuple , dict . method is used to iterate the object is iter and for iteration next method is used.\n"
   ]
  },
  {
   "cell_type": "code",
   "execution_count": 27,
   "id": "5fe00e13-07a7-4f9a-8909-1f1daf9ce1aa",
   "metadata": {},
   "outputs": [
    {
     "name": "stdout",
     "output_type": "stream",
     "text": [
      "2\n",
      "4\n",
      "6\n",
      "8\n",
      "10\n"
     ]
    }
   ],
   "source": [
    "\n",
    "lst = [2, 4, 6, 8, 10, 12, 14, 16, 18, 20]\n",
    "it = iter(lst)\n",
    "\n",
    "for i in range(5):\n",
    "    print(next(it))\n"
   ]
  },
  {
   "cell_type": "markdown",
   "id": "5a282848-23ff-456f-ab4a-faa21d8eae94",
   "metadata": {},
   "source": [
    "Q4.  What is a generator function in python? Why yield keyword is used? Give an example of a generator \n",
    "function"
   ]
  },
  {
   "cell_type": "markdown",
   "id": "e844b832-7e07-4b4b-821d-43a23920f69a",
   "metadata": {},
   "source": [
    "generator function is a normal function, but whenever we want to generate the values we used yield keyword rather than return, if def body contain a function which have yield keyword then the function automatically become generator function.\n",
    "\n",
    "yield keyword used because it allow function to return a value and then resume the execuation from where it is left off.\n",
    "\n",
    "\n"
   ]
  },
  {
   "cell_type": "code",
   "execution_count": 29,
   "id": "e12cd5de-8f3a-47ec-8b08-014c35187e0d",
   "metadata": {},
   "outputs": [
    {
     "name": "stdout",
     "output_type": "stream",
     "text": [
      "0\n",
      "1\n",
      "1\n",
      "2\n",
      "3\n"
     ]
    }
   ],
   "source": [
    "def fib(n):\n",
    "    a,b=0,1\n",
    "    for i in range(n):\n",
    "        yield a\n",
    "        a,b=b,a+b\n",
    "for number in fib(5):\n",
    "    print(number)"
   ]
  },
  {
   "cell_type": "markdown",
   "id": "98ff7176-9a01-4632-824d-cc491290dcd7",
   "metadata": {},
   "source": [
    "Q5. Create a generator function for prime numbers less than 1000. Use the next() method to print the \n",
    "first 20 prime numbers."
   ]
  },
  {
   "cell_type": "code",
   "execution_count": null,
   "id": "3a83e9aa-46ab-4cf7-a1c7-889e51415987",
   "metadata": {},
   "outputs": [],
   "source": [
    "# def primes_generator():\n",
    "#     yield 2\n",
    "#     prime=[2]\n",
    "#     for i in range(3,1000):\n",
    "#         isprime=True\n",
    "#         for j in prime:\n",
    "#             if j*j>i:\n",
    "#                 break\n",
    "#             if i%j==0:\n",
    "#                 isprime=False\n",
    "#                 break\n",
    "#         if isprime():\n",
    "#             prime.append(i)\n",
    "#             yield i\n",
    "# pr=primes_generator()\n",
    "# for i in pr:\n",
    "#     print(next(pr))\n",
    "    \n",
    "def prime_numbers():\n",
    "    yield 2\n",
    "    primes = [2]\n",
    "    for i in range(3, 1000):\n",
    "        is_prime = True\n",
    "        for j in primes:\n",
    "            if j*j > i:\n",
    "                break\n",
    "            if i % j == 0:\n",
    "                is_prime = False\n",
    "                break\n",
    "        if is_prime:\n",
    "            primes.append(i)\n",
    "            yield i\n",
    "primes = prime_numbers()\n",
    "for i in range(20):\n",
    "    print(next(primes))\n",
    "           \n",
    "\n",
    "    \n",
    "    "
   ]
  },
  {
   "cell_type": "code",
   "execution_count": null,
   "id": "1aaba0a7-e364-4c42-a94b-bc2308e1507a",
   "metadata": {},
   "outputs": [],
   "source": []
  },
  {
   "cell_type": "code",
   "execution_count": null,
   "id": "7ba9588a-48c0-41e5-be83-05473df4dadd",
   "metadata": {},
   "outputs": [],
   "source": []
  }
 ],
 "metadata": {
  "kernelspec": {
   "display_name": "Python 3 (ipykernel)",
   "language": "python",
   "name": "python3"
  },
  "language_info": {
   "codemirror_mode": {
    "name": "ipython",
    "version": 3
   },
   "file_extension": ".py",
   "mimetype": "text/x-python",
   "name": "python",
   "nbconvert_exporter": "python",
   "pygments_lexer": "ipython3",
   "version": "3.10.8"
  }
 },
 "nbformat": 4,
 "nbformat_minor": 5
}
