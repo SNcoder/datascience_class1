{
 "cells": [
  {
   "cell_type": "code",
   "execution_count": null,
   "id": "782c43cb-7814-4748-a745-bdb9d53dfe7b",
   "metadata": {},
   "outputs": [],
   "source": [
    "# Q1. Create a function which will take a list as an argument and return the product of all the numbers\n",
    "# after creating a flat list.\n",
    "# Use the below-given list as an argument for your function.\n",
    "# list1 = [1,2,3,4, [44,55,66, True], False, (34,56,78,89,34), {1,2,3,3,2,1}, {1:34, \"key2\": [55, 67, 78, 89], 4: (45,\n",
    "# 22, 61, 34)}, [56, 'data science'], 'Machine Learning']"
   ]
  },
  {
   "cell_type": "code",
   "execution_count": 9,
   "id": "ec316f80-d28c-41be-bf13-757ffaa59958",
   "metadata": {},
   "outputs": [
    {
     "data": {
      "text/plain": [
       "1033677959746771369708460310528000"
      ]
     },
     "execution_count": 9,
     "metadata": {},
     "output_type": "execute_result"
    }
   ],
   "source": [
    "def product(l):\n",
    "    flat_list=[]\n",
    "    def flatt(l):\n",
    "        for i in l:\n",
    "            if type(i)==list:\n",
    "                flatt(i)\n",
    "            elif type(i)==tuple:\n",
    "                flatt(i)\n",
    "            elif type(i)==set:\n",
    "                flatt(i)\n",
    "            elif type(i)==dict:\n",
    "                flatt(i.values())\n",
    "            elif type(i)==int or type(i)==float:\n",
    "                flat_list.append(i)\n",
    "    flatt(l)\n",
    "    \n",
    "    p=1\n",
    "    for j in flat_list:\n",
    "        p*=j\n",
    "    return p\n",
    "list1 = [1,2,3,4, [44,55,66, True], False, (34,56,78,89,34), {1,2,3,3,2,1}, {1:34, \"key2\": [55, 67, 78, 89], 4: (45,22, 61, 34)}, [56, 'data science'], 'Machine Learning']\n",
    "product(list1)\n"
   ]
  },
  {
   "cell_type": "code",
   "execution_count": null,
   "id": "513dc8a9-e2bb-4773-866b-d09703fd8bc1",
   "metadata": {},
   "outputs": [],
   "source": [
    "# Q2. Write a python program for encrypting a message sent to you by your friend. The logic of encryption \n",
    "# should be such that, for a the output should be z. For b, the output should be y. For c, the output should \n",
    "# be x respectively. Also, the whitespace should be replaced with a dollar sign. Keep the punctuation \n",
    "# marks unchanged.\n",
    "\n",
    "\n",
    "# Input Sentence: I want to become a Data Scientist.\n",
    "\n",
    "\n",
    "# Encrypt the above input sentence using the program you just created.\n",
    "\n",
    "\n",
    "# Note: Convert the given input sentence into lowercase before encrypting. The final output should be \n",
    "# lowercase"
   ]
  },
  {
   "cell_type": "code",
   "execution_count": 4,
   "id": "8d41157e-2c5e-4af2-bdb6-cc9ee86477dc",
   "metadata": {},
   "outputs": [],
   "source": [
    "def encryption(message):\n",
    "    encrypt_dict= {\n",
    "        'a': 'z', 'b': 'y', 'c': 'x', 'd': 'w', 'e': 'v',\n",
    "        'f': 'u', 'g': 't', 'h': 's', 'i': 'r', 'j': 'q',\n",
    "        'k': 'p', 'l': 'o', 'm': 'n', 'n': 'm', 'o': 'l',\n",
    "        'p': 'k', 'q': 'j', 'r': 'i', 's': 'h', 't': 'g',\n",
    "        'u': 'f', 'v': 'e', 'w': 'd', 'x': 'c', 'y': 'b',\n",
    "        'z': 'a', ' ': '$'}\n",
    "    encrypt_m=message.lower()\n",
    "    encrypted_mess=\" \"\n",
    "    \n",
    "    for char in encrypt_m:\n",
    "        if char in encrypt_dict:\n",
    "            encrypted_mess+=encrypt_dict[char]\n",
    "        else:\n",
    "            encrypted_mess+=char\n",
    "    ret\n",
    "message=\"I want to become a Data Scientist.\"\n",
    "encryption(message)\n",
    "    "
   ]
  },
  {
   "cell_type": "code",
   "execution_count": null,
   "id": "68a1da4a-6307-4330-84bf-e5a049f2584e",
   "metadata": {},
   "outputs": [],
   "source": []
  },
  {
   "cell_type": "code",
   "execution_count": null,
   "id": "27702080-eaa8-42c2-ba61-cc194ba2fc77",
   "metadata": {},
   "outputs": [],
   "source": []
  }
 ],
 "metadata": {
  "kernelspec": {
   "display_name": "Python 3 (ipykernel)",
   "language": "python",
   "name": "python3"
  },
  "language_info": {
   "codemirror_mode": {
    "name": "ipython",
    "version": 3
   },
   "file_extension": ".py",
   "mimetype": "text/x-python",
   "name": "python",
   "nbconvert_exporter": "python",
   "pygments_lexer": "ipython3",
   "version": "3.10.8"
  }
 },
 "nbformat": 4,
 "nbformat_minor": 5
}
