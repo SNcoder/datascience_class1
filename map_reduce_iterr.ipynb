{
 "cells": [
  {
   "cell_type": "code",
   "execution_count": 1,
   "id": "75902556-596f-4d8a-9e4a-b405dde0c337",
   "metadata": {},
   "outputs": [
    {
     "data": {
      "text/plain": [
       "[4, 9, 1849, 2916, 25, 64]"
      ]
     },
     "execution_count": 1,
     "metadata": {},
     "output_type": "execute_result"
    }
   ],
   "source": [
    "l=[2,3,43,54,5,8]\n",
    "def sq(x):\n",
    "    return x**2\n",
    "list(map(sq,l))\n"
   ]
  },
  {
   "cell_type": "code",
   "execution_count": 3,
   "id": "591d644d-b3df-49db-aebd-5b2a226ea5cf",
   "metadata": {},
   "outputs": [
    {
     "data": {
      "text/plain": [
       "[4, 9, 1849, 2916, 25, 64]"
      ]
     },
     "execution_count": 3,
     "metadata": {},
     "output_type": "execute_result"
    }
   ],
   "source": [
    "list(map(lambda x: x**2,l))"
   ]
  },
  {
   "cell_type": "code",
   "execution_count": 3,
   "id": "d4653ef7-7bc7-47ea-89f1-37545166660a",
   "metadata": {},
   "outputs": [
    {
     "data": {
      "text/plain": [
       "[7, 9, 10, 12, 14]"
      ]
     },
     "execution_count": 3,
     "metadata": {},
     "output_type": "execute_result"
    }
   ],
   "source": [
    "l1=[1,2,3,4,5]\n",
    "l3=[6,7,7,8,9,10]\n",
    "list(map(lambda x,y:x+y,l1,l3))\n"
   ]
  },
  {
   "cell_type": "code",
   "execution_count": 5,
   "id": "873b2144-543f-4436-b3ed-737f01a81f12",
   "metadata": {},
   "outputs": [
    {
     "data": {
      "text/plain": [
       "[7, 9, 10, 12, 14]"
      ]
     },
     "execution_count": 5,
     "metadata": {},
     "output_type": "execute_result"
    }
   ],
   "source": [
    "f=lambda x,y :x+y\n",
    "l1=[1,2,3,4,5]\n",
    "l3=[6,7,7,8,9,10]\n",
    "list(map(f,l1,l3))"
   ]
  },
  {
   "cell_type": "code",
   "execution_count": 7,
   "id": "aff388fd-b203-4ec7-bfcb-a64811b24b7c",
   "metadata": {},
   "outputs": [
    {
     "data": {
      "text/plain": [
       "['S', 'U', 'R', 'Y', 'A', 'N', 'S', 'H']"
      ]
     },
     "execution_count": 7,
     "metadata": {},
     "output_type": "execute_result"
    }
   ],
   "source": [
    "s=\"suryansh\"\n",
    "list(map(lambda x:x.upper(),s))\n",
    "\n",
    "     "
   ]
  },
  {
   "cell_type": "markdown",
   "id": "16e0812e-229d-4b2b-9c5a-9dae44147963",
   "metadata": {},
   "source": [
    "reduce"
   ]
  },
  {
   "cell_type": "code",
   "execution_count": 8,
   "id": "237bd3a0-a7cf-410f-8043-b3af671cb9d8",
   "metadata": {},
   "outputs": [
    {
     "data": {
      "text/plain": [
       "49"
      ]
     },
     "execution_count": 8,
     "metadata": {},
     "output_type": "execute_result"
    }
   ],
   "source": [
    "from functools import reduce\n",
    "l=[1,2,3,34,4,5]\n",
    "def add(x,y):\n",
    "    return x+y\n",
    "reduce(add,l)\n"
   ]
  },
  {
   "cell_type": "code",
   "execution_count": 9,
   "id": "d35b4b85-c80f-4e5e-9f2c-314176a3a6ef",
   "metadata": {},
   "outputs": [
    {
     "data": {
      "text/plain": [
       "49"
      ]
     },
     "execution_count": 9,
     "metadata": {},
     "output_type": "execute_result"
    }
   ],
   "source": [
    "l=[1,2,3,34,4,5]\n",
    "reduce(lambda x,y: x+y,l)\n"
   ]
  },
  {
   "cell_type": "code",
   "execution_count": 10,
   "id": "10c4ce74-9d4c-4331-96c1-6f8de8334ff7",
   "metadata": {},
   "outputs": [
    {
     "ename": "TypeError",
     "evalue": "<lambda>() missing 1 required positional argument: 'z'",
     "output_type": "error",
     "traceback": [
      "\u001b[0;31m---------------------------------------------------------------------------\u001b[0m",
      "\u001b[0;31mTypeError\u001b[0m                                 Traceback (most recent call last)",
      "Cell \u001b[0;32mIn[10], line 1\u001b[0m\n\u001b[0;32m----> 1\u001b[0m \u001b[43mreduce\u001b[49m\u001b[43m(\u001b[49m\u001b[38;5;28;43;01mlambda\u001b[39;49;00m\u001b[43m \u001b[49m\u001b[43mx\u001b[49m\u001b[43m,\u001b[49m\u001b[43my\u001b[49m\u001b[43m,\u001b[49m\u001b[43mz\u001b[49m\u001b[43m:\u001b[49m\u001b[43mx\u001b[49m\u001b[38;5;241;43m+\u001b[39;49m\u001b[43my\u001b[49m\u001b[38;5;241;43m+\u001b[39;49m\u001b[43mz\u001b[49m\u001b[43m,\u001b[49m\u001b[43ml\u001b[49m\u001b[43m)\u001b[49m\n",
      "\u001b[0;31mTypeError\u001b[0m: <lambda>() missing 1 required positional argument: 'z'"
     ]
    }
   ],
   "source": [
    "reduce(lambda x,y,z:x+y+z,l)\n"
   ]
  },
  {
   "cell_type": "code",
   "execution_count": 11,
   "id": "6822bd7a-d5f1-4742-a6ca-9d8b67f90240",
   "metadata": {},
   "outputs": [
    {
     "ename": "TypeError",
     "evalue": "reduce() of empty iterable with no initial value",
     "output_type": "error",
     "traceback": [
      "\u001b[0;31m---------------------------------------------------------------------------\u001b[0m",
      "\u001b[0;31mTypeError\u001b[0m                                 Traceback (most recent call last)",
      "Cell \u001b[0;32mIn[11], line 1\u001b[0m\n\u001b[0;32m----> 1\u001b[0m \u001b[43mreduce\u001b[49m\u001b[43m(\u001b[49m\u001b[38;5;28;43;01mlambda\u001b[39;49;00m\u001b[43m \u001b[49m\u001b[43mx\u001b[49m\u001b[43m,\u001b[49m\u001b[43my\u001b[49m\u001b[43m,\u001b[49m\u001b[43mz\u001b[49m\u001b[43m:\u001b[49m\u001b[43mx\u001b[49m\u001b[38;5;241;43m+\u001b[39;49m\u001b[43my\u001b[49m\u001b[38;5;241;43m+\u001b[39;49m\u001b[43mz\u001b[49m\u001b[43m,\u001b[49m\u001b[43m[\u001b[49m\u001b[43m]\u001b[49m\u001b[43m)\u001b[49m\n",
      "\u001b[0;31mTypeError\u001b[0m: reduce() of empty iterable with no initial value"
     ]
    }
   ],
   "source": [
    "reduce(lambda x,y,z:x+y+z,[])\n"
   ]
  },
  {
   "cell_type": "code",
   "execution_count": 12,
   "id": "823a748e-ecf5-4631-8bdb-dc0de0d3403c",
   "metadata": {},
   "outputs": [
    {
     "data": {
      "text/plain": [
       "1"
      ]
     },
     "execution_count": 12,
     "metadata": {},
     "output_type": "execute_result"
    }
   ],
   "source": [
    "reduce(lambda x,y:x+y,[1])\n",
    "# this is a exception case \n",
    "\n"
   ]
  },
  {
   "cell_type": "code",
   "execution_count": 14,
   "id": "68d18732-a6d1-4382-89cb-2141803d4a31",
   "metadata": {},
   "outputs": [
    {
     "data": {
      "text/plain": [
       "1"
      ]
     },
     "execution_count": 14,
     "metadata": {},
     "output_type": "execute_result"
    }
   ],
   "source": [
    "reduce(lambda x,y:x*y,[1])\n",
    "# this is a exception case \n"
   ]
  },
  {
   "cell_type": "code",
   "execution_count": 17,
   "id": "5476724a-d838-4972-a61e-72d90f8909c8",
   "metadata": {},
   "outputs": [
    {
     "data": {
      "text/plain": [
       "34"
      ]
     },
     "execution_count": 17,
     "metadata": {},
     "output_type": "execute_result"
    }
   ],
   "source": [
    "reduce(lambda x,y: x if x>y else y,l)\n"
   ]
  },
  {
   "cell_type": "markdown",
   "id": "41a0e284-c8eb-47e0-8b44-2346eb13c54f",
   "metadata": {},
   "source": [
    "filer fuction"
   ]
  },
  {
   "cell_type": "code",
   "execution_count": 19,
   "id": "ef6a441f-a6b7-4ebb-b22b-47827ec890a7",
   "metadata": {},
   "outputs": [
    {
     "data": {
      "text/plain": [
       "[2, 34, 4]"
      ]
     },
     "execution_count": 19,
     "metadata": {},
     "output_type": "execute_result"
    }
   ],
   "source": [
    "list(filter(lambda x : x%2==0,l))\n"
   ]
  },
  {
   "cell_type": "code",
   "execution_count": 21,
   "id": "68685260-b84b-487b-a1fb-e3e063e53de7",
   "metadata": {},
   "outputs": [
    {
     "data": {
      "text/plain": [
       "[1, 3, 5]"
      ]
     },
     "execution_count": 21,
     "metadata": {},
     "output_type": "execute_result"
    }
   ],
   "source": [
    "list(filter(lambda x: x%2!=0,l))\n"
   ]
  },
  {
   "cell_type": "code",
   "execution_count": 25,
   "id": "43d81148-5280-4eca-b38e-49a3cef70ede",
   "metadata": {},
   "outputs": [
    {
     "data": {
      "text/plain": [
       "[-7, -9]"
      ]
     },
     "execution_count": 25,
     "metadata": {},
     "output_type": "execute_result"
    }
   ],
   "source": [
    "l2=[2,1,34,-7,-9,76,90]\n",
    "list(filter(lambda x: x<0, l2))\n"
   ]
  },
  {
   "cell_type": "code",
   "execution_count": 26,
   "id": "2c4798f2-8e8a-4150-bf6c-b1f9bdd05cb6",
   "metadata": {},
   "outputs": [
    {
     "data": {
      "text/plain": [
       "[2, 1, 34, 76, 90]"
      ]
     },
     "execution_count": 26,
     "metadata": {},
     "output_type": "execute_result"
    }
   ],
   "source": [
    "l2=[2,1,34,-7,-9,76,90]\n",
    "list(filter(lambda x: x>0, l2))\n"
   ]
  },
  {
   "cell_type": "code",
   "execution_count": 27,
   "id": "156434bd-d1bc-4b66-945a-cdd21a6b495b",
   "metadata": {},
   "outputs": [
    {
     "data": {
      "text/plain": [
       "['shyam', 'annand']"
      ]
     },
     "execution_count": 27,
     "metadata": {},
     "output_type": "execute_result"
    }
   ],
   "source": [
    "l3=[\"maan\",\"shyam\",\"ram\",\"annand\"]\n",
    "list(filter(lambda x:len(x)>4, l3))\n"
   ]
  },
  {
   "cell_type": "code",
   "execution_count": null,
   "id": "4e0a54f9-36af-457c-b833-ae7f9fb36493",
   "metadata": {},
   "outputs": [],
   "source": []
  }
 ],
 "metadata": {
  "kernelspec": {
   "display_name": "Python 3 (ipykernel)",
   "language": "python",
   "name": "python3"
  },
  "language_info": {
   "codemirror_mode": {
    "name": "ipython",
    "version": 3
   },
   "file_extension": ".py",
   "mimetype": "text/x-python",
   "name": "python",
   "nbconvert_exporter": "python",
   "pygments_lexer": "ipython3",
   "version": "3.10.8"
  }
 },
 "nbformat": 4,
 "nbformat_minor": 5
}
