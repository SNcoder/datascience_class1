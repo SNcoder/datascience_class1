{
 "cells": [
  {
   "cell_type": "markdown",
   "id": "81a51b94-6a55-4317-8fe1-5af0f263ecb3",
   "metadata": {},
   "source": [
    "Q1. What is a database? Differentiate between SQL and NoSQthL databases."
   ]
  },
  {
   "cell_type": "markdown",
   "id": "646320ac-e61a-4d85-9a37-3c20bd73b898",
   "metadata": {},
   "source": [
    "an organised collectipon of data and information or interrelated data collected  at one place is callled database\n",
    "sql              \n",
    "1.relational database system\n",
    "2.these database have fixed static or predefined schema\n",
    "3.these database is not suitable for hierarchical data storage\n",
    "4.these database is best suitable for complex qurries\n",
    "5.follows a acid property\n",
    "nosql\n",
    "1.non relational and distributed database system.\n",
    "2.they have dynamic schema\n",
    "3.these database is best suitable for hierarchical data storage.\n",
    "4.these database is not so good for complex queries\n",
    "5.follow cap property.\n",
    "\n",
    "\n"
   ]
  },
  {
   "cell_type": "markdown",
   "id": "0bd59b96-9fe7-44ff-b874-8e54f2b5d6c8",
   "metadata": {},
   "source": [
    "Q2. What is DDL? Explain why CREATE, DROP, ALTER, and TRUNCATE are used with an example."
   ]
  },
  {
   "cell_type": "markdown",
   "id": "4c2e1d37-9a5b-4b1b-8879-c6e2cd749dc4",
   "metadata": {},
   "source": [
    "data defination language is a subset of sql.ddl have command like create, truncate, alter,drop.ddl is to create and modify the table.\n",
    "create :-create command is used to create a table in sql.user have to give information about table name column name and data type\n",
    "example:\n",
    "CREATE TABLE student(\n",
    "colled_id(2),\n",
    "college_name varchar(30),\n",
    "branch varchar(10),\n",
    ");\n",
    "alter:- this comand is used to add delete and change coulmn in the exiating table.\n",
    "example:\n",
    "ALTER TABBLE student\n",
    "ADD CGPA number;\n",
    "truncate:- this command is used to remove all row from  the table.but the structure of table remain exsists\n",
    "example:\n",
    "TRUNCATE TABLE student;\n",
    "drop: this command is used to remove an exsisting table along with its structure from database\n",
    "example:\n",
    "DROP TABLE student;\n",
    "\n"
   ]
  },
  {
   "cell_type": "markdown",
   "id": "8423d173-6db9-4161-9054-46d8f8f390be",
   "metadata": {},
   "source": [
    "Q3. What is DML? Explain INSERT, UPDATE, and DELETE with an example"
   ]
  },
  {
   "cell_type": "markdown",
   "id": "4c6eae8d-0aae-4c1b-88d4-5ad47057d64e",
   "metadata": {},
   "source": [
    "dml:- dml stands for data manipulation languange in a sql is used for manipulate the data stored in the database\n",
    "insert:-it is used to store data in the table\n",
    "example:\n",
    "    INSERT INTO student(name,age) values('ram',16);\n",
    "    \n",
    "update:- it is used to update the data exsist into the table.\n",
    "     UPDATE student SET name='aman',age=16;\n",
    "delete:-it is used to delete the record from the database table\n",
    "DELETE FROM student WHERE name='ram';"
   ]
  },
  {
   "cell_type": "markdown",
   "id": "2a13786a-f08d-4e4f-8666-6088586d2ba8",
   "metadata": {},
   "source": [
    "Q4. What is DQL? Explain SELECT with an example"
   ]
  },
  {
   "cell_type": "markdown",
   "id": "3d8b1274-6b4a-4a08-bcb1-869dae7ee3fb",
   "metadata": {},
   "source": [
    "we can define dql as the component of the sql it is used for getting the data from the database and imposing order upon it.it include the select stataement.\n",
    "select :- select is used retrieve the data from the database.\n",
    "exmaple\n",
    "select * from student\n",
    "\n",
    "\n"
   ]
  },
  {
   "cell_type": "code",
   "execution_count": null,
   "id": "ad137010-2472-4de0-83ca-e374030d7ee5",
   "metadata": {},
   "outputs": [],
   "source": [
    "Q5. Explain Primary Key and Foreign Key.\n"
   ]
  },
  {
   "cell_type": "markdown",
   "id": "ff3eec8b-f86b-4f85-93e2-cef91a3c6279",
   "metadata": {},
   "source": [
    "primary key :primary key is used to ensure the data in the specific column is unique.\n",
    "a column cannot have null values.\n",
    "student_no as well as student_phone bath are candidate keys for relation student but studo_no can be choosen as primary key\n",
    "\n",
    "foreign key:-foreign key is column or group of column in a relational database that provide link between two tables.\n",
    "student_no in student is foreign key in student no in student.\n"
   ]
  },
  {
   "cell_type": "markdown",
   "id": "0d3d2196-d650-49a1-b689-47ce5fa389a6",
   "metadata": {},
   "source": [
    "Q6. Write a python code to connect MySQL to python. Explain the cursor() and execute() method"
   ]
  },
  {
   "cell_type": "code",
   "execution_count": null,
   "id": "ea3c25d0-5dab-4cb6-bf16-8a2a50d68e0d",
   "metadata": {},
   "outputs": [],
   "source": [
    "import mysql.connector\n",
    "mydb=mysql.connector.connect(\n",
    "    host=\"localhost\"\n",
    "    user=\"abc\"\n",
    "    password=\"password\"\n",
    ")\n",
    "mycursor=mydb.cursor()\n",
    "mycursor.execute(\" \")\n",
    "mydb.colse()\n",
    "\n",
    "\n"
   ]
  },
  {
   "cell_type": "code",
   "execution_count": null,
   "id": "3fb67579-902e-4e53-b0a1-424cb7119ea5",
   "metadata": {},
   "outputs": [],
   "source": [
    "cursor():the cursor method is used to create the cursor object that can be used to exwcute sql quries and fetch the result. \n",
    "execute():-execute method is used to execute the sql quaries and command, it take single argument which is sql quries for execute\n"
   ]
  }
 ],
 "metadata": {
  "kernelspec": {
   "display_name": "Python 3 (ipykernel)",
   "language": "python",
   "name": "python3"
  },
  "language_info": {
   "codemirror_mode": {
    "name": "ipython",
    "version": 3
   },
   "file_extension": ".py",
   "mimetype": "text/x-python",
   "name": "python",
   "nbconvert_exporter": "python",
   "pygments_lexer": "ipython3",
   "version": "3.10.8"
  }
 },
 "nbformat": 4,
 "nbformat_minor": 5
}
