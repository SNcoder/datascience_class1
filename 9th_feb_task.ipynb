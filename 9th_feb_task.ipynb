{
 "cells": [
  {
   "cell_type": "markdown",
   "id": "1eabf048-e8fa-4d80-8a9a-419ad7501ece",
   "metadata": {},
   "source": [
    "Q1, Create a vehicle class with an init method having instance variables as name_of_vehicle, max_speed\n",
    "and average_of_vehicle."
   ]
  },
  {
   "cell_type": "code",
   "execution_count": null,
   "id": "90ee4d1b-9262-4fec-b9f6-e6d85000d850",
   "metadata": {},
   "outputs": [],
   "source": [
    "class vehicle :\n",
    "    def __init__(self,name_of_vehicle,max_speed):\n",
    "        self.name_of_vehicle=name_of_vehicle\n",
    "        self.max_speed=max_speed\n",
    "v=vehicle(\"thar\",240)\n"
   ]
  },
  {
   "cell_type": "markdown",
   "id": "56830dde-3969-47c9-8662-4bcb05e5b33a",
   "metadata": {},
   "source": [
    "Q2. Create a child class car from the vehicle class created in Que 1, which will inherit the vehicle class.\n",
    "Create a method named seating_capacity which takes capacity as an argument and returns the name of\n",
    "the vehicle and its seating capacity."
   ]
  },
  {
   "cell_type": "code",
   "execution_count": 6,
   "id": "b01fc7d6-1547-4ea6-8639-bcf30a423e4d",
   "metadata": {},
   "outputs": [
    {
     "name": "stdout",
     "output_type": "stream",
     "text": [
      "thar 8\n"
     ]
    }
   ],
   "source": [
    "class vehicle :\n",
    "    def __init__(self,name_of_vehicle,max_speed):\n",
    "        self.name_of_vehicle=name_of_vehicle\n",
    "        self.max_speed=max_speed\n",
    "class car(vehicle):\n",
    "    def seating_capacity(self,capacity):\n",
    "        self.capacity=capacity\n",
    "        return (self.name_of_vehicle,self.capacity)\n",
    "\n",
    "c=car(\"thar\",240)\n",
    "n,s=c.seating_capacity(8)\n",
    "print(n,s)    "
   ]
  },
  {
   "cell_type": "markdown",
   "id": "377e7259-f687-4a88-86d3-e123c8e228f0",
   "metadata": {},
   "source": [
    "Q3. What is multiple inheritance? Write a python code to demonstrate multiple inheritance."
   ]
  },
  {
   "cell_type": "markdown",
   "id": "e828640b-0dc6-49cf-b67c-d6c036a2abc7",
   "metadata": {},
   "source": [
    "when child class is inherit the property from more than one class is called multiple inheritance\n"
   ]
  },
  {
   "cell_type": "code",
   "execution_count": 11,
   "id": "72ab5c3d-8912-48b6-9a09-743429809298",
   "metadata": {},
   "outputs": [
    {
     "name": "stdout",
     "output_type": "stream",
     "text": [
      "this is derived class\n",
      "this is 1 base class\n",
      "this is 2 base class\n"
     ]
    }
   ],
   "source": [
    "#  example\n",
    "class base1:\n",
    "    def b1(self):\n",
    "        print(\"this is 1 base class\")\n",
    "class base2:\n",
    "    def b2(self):\n",
    "        print(\"this is 2 base class\")\n",
    "class derived1(base1,base2):\n",
    "    def d1(self):\n",
    "        print(\"this is derived class\")\n",
    "        \n",
    "d=derived1()\n",
    "d.d1()\n",
    "d.b1()\n",
    "d.b2()\n"
   ]
  },
  {
   "cell_type": "markdown",
   "id": "7f8da50f-61d6-4435-850f-a78abc36d417",
   "metadata": {},
   "source": [
    "Q4. What are getter and setter in python? Create a class and create a getter and a setter method in this\n",
    "class."
   ]
  },
  {
   "cell_type": "code",
   "execution_count": null,
   "id": "60005e30-0d13-43ed-9a6e-ea7b92d9527d",
   "metadata": {},
   "outputs": [],
   "source": [
    "in object oriented programming getter and setter is used for to ensure the data encapsulation.private variable cnanot be used directly any user so for also to provide\n",
    "valid access to the user we use setter and getter.\n",
    "\n"
   ]
  },
  {
   "cell_type": "code",
   "execution_count": 15,
   "id": "e406229a-8786-428d-b1b7-76bdd744da4a",
   "metadata": {},
   "outputs": [
    {
     "data": {
      "text/plain": [
       "10000"
      ]
     },
     "execution_count": 15,
     "metadata": {},
     "output_type": "execute_result"
    }
   ],
   "source": [
    "class employee:\n",
    "    def __init__(self,salary,em_id):\n",
    "        self.__salary=salary\n",
    "        self.__em_id=em_id\n",
    "        \n",
    "    def setter(self,salary):\n",
    "        self.__salary=salary\n",
    "    def getter(self):\n",
    "        return self.__salary\n",
    "e=employee(10000,34)\n",
    "e.setter(10000)\n",
    "e.getter()"
   ]
  },
  {
   "cell_type": "code",
   "execution_count": null,
   "id": "40298f86-8032-4fa7-b5fc-bea9350847d6",
   "metadata": {},
   "outputs": [],
   "source": [
    "# Q5.What is method overriding in python? Write a python code to demonstrate method overriding.\n"
   ]
  },
  {
   "cell_type": "code",
   "execution_count": null,
   "id": "1d26abd5-74e6-4db9-afc9-744502c94458",
   "metadata": {},
   "outputs": [],
   "source": [
    "method overriding :-the method in a parent class is same  name method with same parameter , return type in child class only defination of both function is different is called method overriding\n"
   ]
  },
  {
   "cell_type": "code",
   "execution_count": 18,
   "id": "cec9b68c-59dc-485e-86f3-03d8a0c687a8",
   "metadata": {},
   "outputs": [
    {
     "name": "stdout",
     "output_type": "stream",
     "text": [
      "1\n",
      "2\n"
     ]
    }
   ],
   "source": [
    "class base1:\n",
    "    value=1\n",
    "    def v1(self):\n",
    "        print(self.value)\n",
    "class derived2(base1):\n",
    "    value=2\n",
    "    def v1(self):\n",
    "        print(self.value)\n",
    "b=base1()\n",
    "b.v1()\n",
    "d=derived2()\n",
    "d.v1()"
   ]
  },
  {
   "cell_type": "code",
   "execution_count": null,
   "id": "6763980f-8769-46dc-bb35-2fc387eb88fd",
   "metadata": {},
   "outputs": [],
   "source": []
  }
 ],
 "metadata": {
  "kernelspec": {
   "display_name": "Python 3 (ipykernel)",
   "language": "python",
   "name": "python3"
  },
  "language_info": {
   "codemirror_mode": {
    "name": "ipython",
    "version": 3
   },
   "file_extension": ".py",
   "mimetype": "text/x-python",
   "name": "python",
   "nbconvert_exporter": "python",
   "pygments_lexer": "ipython3",
   "version": "3.10.8"
  }
 },
 "nbformat": 4,
 "nbformat_minor": 5
}
