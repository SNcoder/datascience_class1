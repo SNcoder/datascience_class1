{
 "cells": [
  {
   "cell_type": "code",
   "execution_count": 4,
   "id": "4bc06ff9-3c3f-4c29-827c-03795cb94d33",
   "metadata": {},
   "outputs": [
    {
     "data": {
      "text/plain": [
       "64"
      ]
     },
     "execution_count": 4,
     "metadata": {},
     "output_type": "execute_result"
    }
   ],
   "source": [
    "def test(n,p):\n",
    "    return n**p\n",
    "test(4,3)\n"
   ]
  },
  {
   "cell_type": "code",
   "execution_count": 5,
   "id": "a3e15aae-ce30-4110-b27e-7e42b1826cc0",
   "metadata": {},
   "outputs": [
    {
     "data": {
      "text/plain": [
       "27"
      ]
     },
     "execution_count": 5,
     "metadata": {},
     "output_type": "execute_result"
    }
   ],
   "source": [
    "a=lambda n,p:n**p\n",
    "a(3,3)"
   ]
  },
  {
   "cell_type": "code",
   "execution_count": 6,
   "id": "766d6ccb-33e8-461f-b18a-0ef87c846aad",
   "metadata": {},
   "outputs": [
    {
     "data": {
      "text/plain": [
       "10"
      ]
     },
     "execution_count": 6,
     "metadata": {},
     "output_type": "execute_result"
    }
   ],
   "source": [
    "add=lambda x,y:x+y\n",
    "add(5,5)\n"
   ]
  },
  {
   "cell_type": "code",
   "execution_count": 9,
   "id": "4ff8903c-1b6b-416e-9959-23e32a12ad02",
   "metadata": {},
   "outputs": [
    {
     "data": {
      "text/plain": [
       "93.2"
      ]
     },
     "execution_count": 9,
     "metadata": {},
     "output_type": "execute_result"
    }
   ],
   "source": [
    "c_to_f=lambda c: (9/5)*c+32\n",
    "c_to_f(34)"
   ]
  },
  {
   "cell_type": "code",
   "execution_count": 13,
   "id": "4b3181ce-7eda-4fd3-81ff-3599c20e2ea2",
   "metadata": {},
   "outputs": [
    {
     "data": {
      "text/plain": [
       "10"
      ]
     },
     "execution_count": 13,
     "metadata": {},
     "output_type": "execute_result"
    }
   ],
   "source": [
    "max= lambda a,b:  a if a>b else b\n",
    "max(5,10)\n"
   ]
  },
  {
   "cell_type": "code",
   "execution_count": 14,
   "id": "2a9ed086-d4fd-4be5-bc3a-5c842f85046d",
   "metadata": {},
   "outputs": [
    {
     "data": {
      "text/plain": [
       "89"
      ]
     },
     "execution_count": 14,
     "metadata": {},
     "output_type": "execute_result"
    }
   ],
   "source": [
    "max=lambda c,d:c if c>d else d\n",
    "max(7,89)\n"
   ]
  },
  {
   "cell_type": "code",
   "execution_count": 15,
   "id": "2258bcd0-5b35-4c78-a263-54e61271e344",
   "metadata": {},
   "outputs": [
    {
     "data": {
      "text/plain": [
       "5"
      ]
     },
     "execution_count": 15,
     "metadata": {},
     "output_type": "execute_result"
    }
   ],
   "source": [
    "le=lambda s: len(s)\n",
    "le(\"hello\")\n"
   ]
  },
  {
   "cell_type": "code",
   "execution_count": null,
   "id": "58b99c7f-34b0-4566-8794-f09d3e4a84b1",
   "metadata": {},
   "outputs": [],
   "source": []
  }
 ],
 "metadata": {
  "kernelspec": {
   "display_name": "Python 3 (ipykernel)",
   "language": "python",
   "name": "python3"
  },
  "language_info": {
   "codemirror_mode": {
    "name": "ipython",
    "version": 3
   },
   "file_extension": ".py",
   "mimetype": "text/x-python",
   "name": "python",
   "nbconvert_exporter": "python",
   "pygments_lexer": "ipython3",
   "version": "3.10.8"
  }
 },
 "nbformat": 4,
 "nbformat_minor": 5
}
