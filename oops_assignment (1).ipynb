{
 "cells": [
  {
   "cell_type": "markdown",
   "id": "29be201e-a7f8-4168-9b1d-85b04efdf85d",
   "metadata": {},
   "source": [
    "Q1. Explain Class and Object with respect to Object-Oriented Programming. Give a suitable example."
   ]
  },
  {
   "cell_type": "markdown",
   "id": "2a778571-29f7-44dc-ab19-6139f5ecd4e0",
   "metadata": {},
   "source": [
    "class :- A class is a usser defined data structrues which have its own data member and member funcrtion. which is access and created by instace of the lass is a blue print or templete for object.\n",
    "class can be defined by keyword class\n",
    "attribute are the variable that belong to the class\n",
    "attributes in the class is always public which always accessed using .\n"
   ]
  },
  {
   "cell_type": "markdown",
   "id": "cf124013-ebe9-4c59-8157-eb1a484c38fe",
   "metadata": {},
   "source": [
    "objet:-object is a real world entity. object is a intance of a class.class is like a blue print and object is a copy of that class which have it actual values.for example dog is a class and jack is a name of that of dog\n",
    "\n"
   ]
  },
  {
   "cell_type": "code",
   "execution_count": 2,
   "id": "a8913f3a-7bd8-4d5d-941c-6711814ec457",
   "metadata": {},
   "outputs": [
    {
     "name": "stdout",
     "output_type": "stream",
     "text": [
      "bhoww bhow\n",
      "bhoww bhow\n"
     ]
    }
   ],
   "source": [
    "# example\n",
    "class dog:\n",
    "    def bark(self):\n",
    "        print(\"bhoww bhow\")\n",
    "jack=dog()\n",
    "jack.bark()\n",
    "rack=dog()\n",
    "rack.bark()"
   ]
  },
  {
   "cell_type": "markdown",
   "id": "9fa2780a-6b1c-4bc6-a407-bafc2c243d69",
   "metadata": {},
   "source": [
    "Q2. Name the four pillars of OOPs."
   ]
  },
  {
   "cell_type": "markdown",
   "id": "8a4bca26-3aa7-4184-94dc-b587b736d0de",
   "metadata": {},
   "source": [
    "1. encapsulation\n",
    "2. inheritance\n",
    "3.abstraction\n",
    "4.polymorphism"
   ]
  },
  {
   "cell_type": "code",
   "execution_count": null,
   "id": "959e0945-011e-4a51-808b-ed8d0d419805",
   "metadata": {},
   "outputs": [],
   "source": [
    "Q3. Explain why the __init__() function is used. Give a suitable example."
   ]
  },
  {
   "cell_type": "code",
   "execution_count": null,
   "id": "eb431f84-1883-4843-b513-07e5e315448d",
   "metadata": {},
   "outputs": [],
   "source": [
    "__init__() is an constructor which call when object of the class is created.for passing an argument to class we used __init__() fucntion at the time of creation of object.\n"
   ]
  },
  {
   "cell_type": "code",
   "execution_count": 7,
   "id": "ee2e5beb-e9fa-4576-b94e-9f9239d47706",
   "metadata": {},
   "outputs": [
    {
     "name": "stdout",
     "output_type": "stream",
     "text": [
      "12\n"
     ]
    }
   ],
   "source": [
    "# example\n",
    "class add:\n",
    "    def __init__(self,a,b):\n",
    "        self.a=a\n",
    "        self.b=b\n",
    "    def print(self):\n",
    "        print(self.a+self.b)\n",
    "        \n",
    "ad1=add(4,8)\n",
    "ad1.print()"
   ]
  },
  {
   "cell_type": "markdown",
   "id": "1eb49951-09aa-4983-b4c6-15a25d5d6b89",
   "metadata": {},
   "source": [
    "Q4. Why self is used in OOPs?\n",
    "\n"
   ]
  },
  {
   "cell_type": "markdown",
   "id": "6c7fdfbb-a4f6-4448-853f-635a6e86077d",
   "metadata": {},
   "source": [
    "self behave as a pointer to the class which pionted that particular variable and object is belong to that class.In object-oriented programming (OOP), the self keyword is used to refer to the instance of the class being used.\n"
   ]
  },
  {
   "cell_type": "markdown",
   "id": "745f84cd-eb1a-40c0-b662-7083bbc4030c",
   "metadata": {},
   "source": [
    "Q5. What is inheritance? Give an example for each type of inheritance."
   ]
  },
  {
   "cell_type": "markdown",
   "id": "49b21aa1-a10e-4da3-8da0-77f49d7f295c",
   "metadata": {},
   "source": [
    "inheritance:- child class inherit the property and characteristics of parent class is called inheritance\n",
    "there are many type of inheritance .1 single inheritance 2. multiple inheritance 3.multilevel inheritance 4 hierarchical inheritance 5.hybrid inheritance\n"
   ]
  },
  {
   "cell_type": "code",
   "execution_count": 1,
   "id": "d7670bff-2609-469f-b21a-e228c365a115",
   "metadata": {},
   "outputs": [
    {
     "name": "stdout",
     "output_type": "stream",
     "text": [
      "this is a parent class\n"
     ]
    }
   ],
   "source": [
    "# single inheritance\n",
    "class base1:\n",
    "    def v1(self):\n",
    "        print(\"this is a parent class\")\n",
    "class derived1(base1):\n",
    "    pass\n",
    "d1=derived1()\n",
    "d1.v1()"
   ]
  },
  {
   "cell_type": "code",
   "execution_count": 4,
   "id": "f384b73b-ebab-41ff-a292-1b7cfa008f82",
   "metadata": {},
   "outputs": [
    {
     "name": "stdout",
     "output_type": "stream",
     "text": [
      "this a first parent class\n",
      "this is a second parent class\n"
     ]
    }
   ],
   "source": [
    "#multiple inheritance here child class inherit the property more than 1 class \n",
    "class base2:\n",
    "    def v2(self):\n",
    "        print(\"this a first parent class\")\n",
    "class base3:\n",
    "        def v3(self):\n",
    "            print(\"this is a second parent class\")\n",
    "class derived2(base2,base3):\n",
    "    pass\n",
    "d2=derived2()\n",
    "d2.v2()\n",
    "d2.v3()\n",
    "               \n",
    "              "
   ]
  },
  {
   "cell_type": "code",
   "execution_count": 7,
   "id": "42458520-3e37-48e7-8540-a8874f5ef5b4",
   "metadata": {},
   "outputs": [
    {
     "name": "stdout",
     "output_type": "stream",
     "text": [
      "i am a ceo of  google\n",
      "i am a project head in google\n",
      "i am making a app for weather forecasting in google\n"
     ]
    }
   ],
   "source": [
    "# multilevel inheritance : here once class is parenets for another class means child class is parents for another class \n",
    "class e1:\n",
    "    def employee1(self):\n",
    "        print(\"i am a ceo of  google\")\n",
    "class e2(e1):\n",
    "    def employee2(self):\n",
    "        print(\"i am a project head in google\")\n",
    "class e3(e2):\n",
    "    def employee3(self):\n",
    "        print(\"i am making a app for weather forecasting in google\")\n",
    "e=e3()\n",
    "e.employee1()\n",
    "e.employee2()\n",
    "e.employee3()"
   ]
  },
  {
   "cell_type": "code",
   "execution_count": 11,
   "id": "3a4de2ab-9c5e-4da3-91f2-834f55ab4e5d",
   "metadata": {},
   "outputs": [
    {
     "name": "stdout",
     "output_type": "stream",
     "text": [
      "i am a parents class\n",
      "i am first child class\n",
      "i am a parents class\n",
      "i am second child class\n"
     ]
    }
   ],
   "source": [
    "# hierarichal inheritance: when more than one derived class is created from parent class is called harirachical inheritannce\n",
    "class parent4:\n",
    "    def p1(self):\n",
    "        print(\"i am a parents class\")\n",
    "class child1(parent4):\n",
    "    def c1(self):\n",
    "        print(\"i am first child class\")\n",
    "class child2(parent4):\n",
    "    def c2(self):\n",
    "        print(\"i am second child class\")\n",
    "a1=child1()\n",
    "a1.p1()\n",
    "a1.c1()\n",
    "a2=child2()\n",
    "a2.p1()\n",
    "a2.c2()\n",
    "\n",
    "\n"
   ]
  },
  {
   "cell_type": "code",
   "execution_count": 18,
   "id": "a3de3576-6ea8-4cc5-a90f-bc500091c505",
   "metadata": {},
   "outputs": [
    {
     "name": "stdout",
     "output_type": "stream",
     "text": [
      "i am math teacher\n",
      "this is cbsc school\n"
     ]
    }
   ],
   "source": [
    "# hybrd inheritance : inheritance consisting multiple type of inheritance is called hybrid inheritance\n",
    "class school:\n",
    "    def s(self):\n",
    "        print(\"this is cbsc school\")\n",
    "class teacher1(school):\n",
    "    def t1(self):\n",
    "        print(\"i am math teacher\")\n",
    "class teacher2(school):\n",
    "    def t2(self):\n",
    "        print(\"i am physics teacher\")\n",
    "class teacher3(teacher1,school):\n",
    "    pass\n",
    "t=teacher3()\n",
    "\n",
    "t.t1()\n",
    "t.s()\n",
    "              \n"
   ]
  },
  {
   "cell_type": "code",
   "execution_count": null,
   "id": "afcbfe6e-968d-449f-a547-44bbb4006427",
   "metadata": {},
   "outputs": [],
   "source": []
  }
 ],
 "metadata": {
  "kernelspec": {
   "display_name": "Python 3 (ipykernel)",
   "language": "python",
   "name": "python3"
  },
  "language_info": {
   "codemirror_mode": {
    "name": "ipython",
    "version": 3
   },
   "file_extension": ".py",
   "mimetype": "text/x-python",
   "name": "python",
   "nbconvert_exporter": "python",
   "pygments_lexer": "ipython3",
   "version": "3.10.8"
  }
 },
 "nbformat": 4,
 "nbformat_minor": 5
}
